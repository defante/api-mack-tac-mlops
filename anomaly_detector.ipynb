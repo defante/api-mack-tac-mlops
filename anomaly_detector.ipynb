{
 "cells": [
  {
   "cell_type": "markdown",
   "id": "d40aaa37",
   "metadata": {
    "id": "d40aaa37"
   },
   "source": [
    "### Library and file imports "
   ]
  },
  {
   "cell_type": "code",
   "execution_count": 1,
   "id": "dcceedf1",
   "metadata": {
    "id": "dcceedf1"
   },
   "outputs": [],
   "source": [
    "import glob\n",
    "import os\n",
    "import pandas as pd\n",
    "import numpy as np\n",
    "\n",
    "import seaborn as sns\n",
    "import matplotlib.pyplot as plt\n",
    "%matplotlib inline\n",
    "\n",
    "from sklearn.preprocessing import MinMaxScaler\n",
    "from sklearn.model_selection import train_test_split\n",
    "# Naive Bayes\n",
    "from sklearn.naive_bayes import GaussianNB\n",
    "from sklearn.metrics import confusion_matrix, roc_curve, auc, recall_score, precision_score, f1_score"
   ]
  },
  {
   "cell_type": "code",
   "execution_count": 2,
   "id": "8151b5d1",
   "metadata": {
    "id": "8151b5d1"
   },
   "outputs": [],
   "source": [
    "path_to_normal_operation_files = r\"./data/0\"\n",
    "path_to_flow_instability_files = r\"./data/4\"\n",
    "\n",
    "all_normal_operation_files = glob.glob(\n",
    "    os.path.join(path_to_normal_operation_files, \"*.csv\")\n",
    ")\n",
    "all_flow_instability_files = glob.glob(\n",
    "    os.path.join(path_to_flow_instability_files, \"*.csv\")\n",
    ")"
   ]
  },
  {
   "cell_type": "markdown",
   "id": "dd04775d",
   "metadata": {
    "id": "dd04775d"
   },
   "source": [
    "### Base samples"
   ]
  },
  {
   "cell_type": "code",
   "execution_count": 3,
   "id": "8eaf4f35",
   "metadata": {
    "colab": {
     "base_uri": "https://localhost:8080/",
     "height": 143
    },
    "id": "8eaf4f35",
    "outputId": "45b29053-732e-4f4a-ca43-976ad0f8ab38"
   },
   "outputs": [
    {
     "data": {
      "text/html": [
       "<div>\n",
       "<style scoped>\n",
       "    .dataframe tbody tr th:only-of-type {\n",
       "        vertical-align: middle;\n",
       "    }\n",
       "\n",
       "    .dataframe tbody tr th {\n",
       "        vertical-align: top;\n",
       "    }\n",
       "\n",
       "    .dataframe thead th {\n",
       "        text-align: right;\n",
       "    }\n",
       "</style>\n",
       "<table border=\"1\" class=\"dataframe\">\n",
       "  <thead>\n",
       "    <tr style=\"text-align: right;\">\n",
       "      <th></th>\n",
       "      <th>timestamp</th>\n",
       "      <th>P-PDG</th>\n",
       "      <th>P-TPT</th>\n",
       "      <th>T-TPT</th>\n",
       "      <th>P-MON-CKP</th>\n",
       "      <th>T-JUS-CKP</th>\n",
       "      <th>P-JUS-CKGL</th>\n",
       "      <th>T-JUS-CKGL</th>\n",
       "      <th>QGL</th>\n",
       "      <th>class</th>\n",
       "    </tr>\n",
       "  </thead>\n",
       "  <tbody>\n",
       "    <tr>\n",
       "      <th>0</th>\n",
       "      <td>2017-02-01 02:02:07.000000</td>\n",
       "      <td>0.0</td>\n",
       "      <td>10092110.0</td>\n",
       "      <td>119.0944</td>\n",
       "      <td>1609800.0</td>\n",
       "      <td>84.59782</td>\n",
       "      <td>1564147.0</td>\n",
       "      <td>NaN</td>\n",
       "      <td>0.0</td>\n",
       "      <td>0.0</td>\n",
       "    </tr>\n",
       "    <tr>\n",
       "      <th>1</th>\n",
       "      <td>2017-02-01 02:02:08.000000</td>\n",
       "      <td>0.0</td>\n",
       "      <td>10092000.0</td>\n",
       "      <td>119.0944</td>\n",
       "      <td>1618206.0</td>\n",
       "      <td>84.58997</td>\n",
       "      <td>1564148.0</td>\n",
       "      <td>NaN</td>\n",
       "      <td>0.0</td>\n",
       "      <td>0.0</td>\n",
       "    </tr>\n",
       "    <tr>\n",
       "      <th>2</th>\n",
       "      <td>2017-02-01 02:02:09.000000</td>\n",
       "      <td>0.0</td>\n",
       "      <td>10091890.0</td>\n",
       "      <td>119.0944</td>\n",
       "      <td>1626612.0</td>\n",
       "      <td>84.58213</td>\n",
       "      <td>1564148.0</td>\n",
       "      <td>NaN</td>\n",
       "      <td>0.0</td>\n",
       "      <td>0.0</td>\n",
       "    </tr>\n",
       "  </tbody>\n",
       "</table>\n",
       "</div>"
      ],
      "text/plain": [
       "                    timestamp  P-PDG       P-TPT     T-TPT  P-MON-CKP  \\\n",
       "0  2017-02-01 02:02:07.000000    0.0  10092110.0  119.0944  1609800.0   \n",
       "1  2017-02-01 02:02:08.000000    0.0  10092000.0  119.0944  1618206.0   \n",
       "2  2017-02-01 02:02:09.000000    0.0  10091890.0  119.0944  1626612.0   \n",
       "\n",
       "   T-JUS-CKP  P-JUS-CKGL  T-JUS-CKGL  QGL  class  \n",
       "0   84.59782   1564147.0         NaN  0.0    0.0  \n",
       "1   84.58997   1564148.0         NaN  0.0    0.0  \n",
       "2   84.58213   1564148.0         NaN  0.0    0.0  "
      ]
     },
     "execution_count": 3,
     "metadata": {},
     "output_type": "execute_result"
    }
   ],
   "source": [
    "list_files = []\n",
    "for filename in all_normal_operation_files:\n",
    "    df_normal = pd.read_csv(filename, index_col=None, header=0)\n",
    "    list_files.append(df_normal)\n",
    "\n",
    "normal_frame = pd.concat(list_files, axis=0)\n",
    "del list_files, df_normal\n",
    "normal_frame.head(3)"
   ]
  },
  {
   "cell_type": "code",
   "execution_count": 4,
   "id": "b0a135c4",
   "metadata": {
    "colab": {
     "base_uri": "https://localhost:8080/",
     "height": 143
    },
    "id": "b0a135c4",
    "outputId": "3db4af52-f726-4351-ea1e-cea1c4b51dfa"
   },
   "outputs": [
    {
     "data": {
      "text/html": [
       "<div>\n",
       "<style scoped>\n",
       "    .dataframe tbody tr th:only-of-type {\n",
       "        vertical-align: middle;\n",
       "    }\n",
       "\n",
       "    .dataframe tbody tr th {\n",
       "        vertical-align: top;\n",
       "    }\n",
       "\n",
       "    .dataframe thead th {\n",
       "        text-align: right;\n",
       "    }\n",
       "</style>\n",
       "<table border=\"1\" class=\"dataframe\">\n",
       "  <thead>\n",
       "    <tr style=\"text-align: right;\">\n",
       "      <th></th>\n",
       "      <th>timestamp</th>\n",
       "      <th>P-PDG</th>\n",
       "      <th>P-TPT</th>\n",
       "      <th>T-TPT</th>\n",
       "      <th>P-MON-CKP</th>\n",
       "      <th>T-JUS-CKP</th>\n",
       "      <th>P-JUS-CKGL</th>\n",
       "      <th>T-JUS-CKGL</th>\n",
       "      <th>QGL</th>\n",
       "      <th>class</th>\n",
       "    </tr>\n",
       "  </thead>\n",
       "  <tbody>\n",
       "    <tr>\n",
       "      <th>0</th>\n",
       "      <td>2017-03-16 12:02:03.000000</td>\n",
       "      <td>38265830.0</td>\n",
       "      <td>13654450.0</td>\n",
       "      <td>117.1953</td>\n",
       "      <td>6029680.0</td>\n",
       "      <td>68.64587</td>\n",
       "      <td>3283309.0</td>\n",
       "      <td>NaN</td>\n",
       "      <td>0.0</td>\n",
       "      <td>4</td>\n",
       "    </tr>\n",
       "    <tr>\n",
       "      <th>1</th>\n",
       "      <td>2017-03-16 12:02:04.000000</td>\n",
       "      <td>38265830.0</td>\n",
       "      <td>13654520.0</td>\n",
       "      <td>117.1947</td>\n",
       "      <td>6030228.0</td>\n",
       "      <td>68.64333</td>\n",
       "      <td>3283309.0</td>\n",
       "      <td>NaN</td>\n",
       "      <td>0.0</td>\n",
       "      <td>4</td>\n",
       "    </tr>\n",
       "    <tr>\n",
       "      <th>2</th>\n",
       "      <td>2017-03-16 12:02:05.000000</td>\n",
       "      <td>38265830.0</td>\n",
       "      <td>13654580.0</td>\n",
       "      <td>117.1942</td>\n",
       "      <td>6030777.0</td>\n",
       "      <td>68.64080</td>\n",
       "      <td>3283308.0</td>\n",
       "      <td>NaN</td>\n",
       "      <td>0.0</td>\n",
       "      <td>4</td>\n",
       "    </tr>\n",
       "  </tbody>\n",
       "</table>\n",
       "</div>"
      ],
      "text/plain": [
       "                    timestamp       P-PDG       P-TPT     T-TPT  P-MON-CKP  \\\n",
       "0  2017-03-16 12:02:03.000000  38265830.0  13654450.0  117.1953  6029680.0   \n",
       "1  2017-03-16 12:02:04.000000  38265830.0  13654520.0  117.1947  6030228.0   \n",
       "2  2017-03-16 12:02:05.000000  38265830.0  13654580.0  117.1942  6030777.0   \n",
       "\n",
       "   T-JUS-CKP  P-JUS-CKGL  T-JUS-CKGL  QGL  class  \n",
       "0   68.64587   3283309.0         NaN  0.0      4  \n",
       "1   68.64333   3283309.0         NaN  0.0      4  \n",
       "2   68.64080   3283308.0         NaN  0.0      4  "
      ]
     },
     "execution_count": 4,
     "metadata": {},
     "output_type": "execute_result"
    }
   ],
   "source": [
    "list_files = []\n",
    "for filename in all_flow_instability_files:\n",
    "    df_anomaly = pd.read_csv(filename, index_col=None, header=0)\n",
    "    list_files.append(df_anomaly)\n",
    "\n",
    "flow_instability_frame = pd.concat(list_files, axis=0)\n",
    "del list_files, df_anomaly\n",
    "flow_instability_frame.head(3)"
   ]
  },
  {
   "cell_type": "code",
   "execution_count": 5,
   "id": "08c9e6c5",
   "metadata": {
    "id": "08c9e6c5"
   },
   "outputs": [],
   "source": [
    "df_source = pd.concat([normal_frame, flow_instability_frame])\n",
    "del normal_frame, flow_instability_frame"
   ]
  },
  {
   "cell_type": "markdown",
   "id": "ff153379",
   "metadata": {},
   "source": [
    "### Preprocessing of the whole base"
   ]
  },
  {
   "cell_type": "code",
   "execution_count": 6,
   "id": "a65b1ea9",
   "metadata": {
    "id": "a65b1ea9"
   },
   "outputs": [],
   "source": [
    "# observations without classification are discarded\n",
    "target_class = \"class\"\n",
    "df_pipe = df_source.dropna(subset=[target_class])\n",
    "\n",
    "X_pipe = df_pipe.drop(target_class, axis=1)\n",
    "y_pipe = df_pipe.loc[:, target_class]\n",
    "\n",
    "del df_pipe\n",
    "\n",
    "X_pipe_train, X_pipe_test, y_pipe_train, y_pipe_test = train_test_split(\n",
    "    X_pipe, y_pipe, test_size=0.2, random_state=666\n",
    ")\n",
    "\n",
    "del X_pipe, y_pipe"
   ]
  },
  {
   "cell_type": "markdown",
   "id": "66c4b5e2",
   "metadata": {
    "id": "66c4b5e2"
   },
   "source": [
    "### Pipeline"
   ]
  },
  {
   "cell_type": "markdown",
   "id": "873502de",
   "metadata": {},
   "source": [
    "#### Assembling Pipeline"
   ]
  },
  {
   "cell_type": "code",
   "execution_count": 7,
   "id": "40f861c8",
   "metadata": {
    "id": "40f861c8"
   },
   "outputs": [],
   "source": [
    "from sklearn.impute import SimpleImputer\n",
    "from sklearn.pipeline import Pipeline, FunctionTransformer"
   ]
  },
  {
   "cell_type": "code",
   "execution_count": 8,
   "id": "8603faf9",
   "metadata": {
    "colab": {
     "base_uri": "https://localhost:8080/",
     "height": 196
    },
    "id": "8603faf9",
    "outputId": "8c2c74c7-74b9-4010-9c0f-be11a0a70245"
   },
   "outputs": [],
   "source": [
    "columns_to_drop = [\"timestamp\", \"T-JUS-CKGL\"]\n",
    "\n",
    "drop_function = FunctionTransformer(lambda x: x.drop(columns=columns_to_drop, axis=1))\n",
    "\n",
    "fill_mean = SimpleImputer(missing_values=np.nan, strategy=\"mean\")\n",
    "\n",
    "pipe = Pipeline(\n",
    "    steps=[\n",
    "        (\"dropout\", drop_function),\n",
    "        (\"fillna\", fill_mean),\n",
    "        (\"transform\", MinMaxScaler()),\n",
    "        (\"clf\", GaussianNB()),\n",
    "    ]\n",
    ")"
   ]
  },
  {
   "cell_type": "markdown",
   "id": "a8a646b9",
   "metadata": {},
   "source": [
    "#### Tuning Hyperparameters and Tracking Experiment with MLFlow"
   ]
  },
  {
   "cell_type": "code",
   "execution_count": 9,
   "id": "8f25c217",
   "metadata": {},
   "outputs": [
    {
     "data": {
      "text/plain": [
       "<Experiment: artifact_location='file:///d:/Users/Lucas/Documents/workspace/defante/api-mack-tac-mlops/mlruns/219002891498167879', creation_time=1728341596398, experiment_id='219002891498167879', last_update_time=1728341596398, lifecycle_stage='active', name='mack-tac-experiment', tags={}>"
      ]
     },
     "execution_count": 9,
     "metadata": {},
     "output_type": "execute_result"
    }
   ],
   "source": [
    "import mlflow\n",
    "import copy\n",
    "\n",
    "mlflow.set_experiment(\"mack-tac-experiment\")"
   ]
  },
  {
   "cell_type": "code",
   "execution_count": null,
   "id": "9913fc64",
   "metadata": {},
   "outputs": [],
   "source": [
    "if False:\n",
    "    mlflow.start_run()\n",
    "\n",
    "    mlflow.set_tags({\"model\": \"GaussianNB\", \"class\": \"experiment\"})\n",
    "\n",
    "    var_smoothings = np.logspace(-9, 0, num=10)\n",
    "\n",
    "    for value in var_smoothings:\n",
    "\n",
    "        mlflow.start_run(nested=True)\n",
    "\n",
    "        print(f\"Fitting for var_smoothing={value}\")\n",
    "\n",
    "        mlflow.log_param(\"var_smoothing\", value)\n",
    "\n",
    "        experiment_pipe = copy.deepcopy(pipe)\n",
    "\n",
    "        experiment_pipe.set_params(clf__var_smoothing=value)\n",
    "\n",
    "        experiment_pipe.fit(X_pipe_train, y_pipe_train)\n",
    "\n",
    "        experiment_predictions = experiment_pipe.predict(X_pipe_test)\n",
    "\n",
    "        mlflow.log_metrics(\n",
    "            {\n",
    "                \"accuracy\": (experiment_pipe.score(X_pipe_test, y_pipe_test)),\n",
    "                \"recall\": (\n",
    "                    recall_score(\n",
    "                        y_pipe_test.values, experiment_predictions, pos_label=4\n",
    "                    )\n",
    "                ),\n",
    "                \"precision\": (\n",
    "                    precision_score(\n",
    "                        y_pipe_test.values, experiment_predictions, pos_label=4\n",
    "                    )\n",
    "                ),\n",
    "                \"f1-score\": (\n",
    "                    f1_score(y_pipe_test.values, experiment_predictions, pos_label=4)\n",
    "                ),\n",
    "            }\n",
    "        )\n",
    "\n",
    "        mlflow.end_run()\n",
    "\n",
    "    mlflow.end_run()"
   ]
  },
  {
   "cell_type": "markdown",
   "id": "46d7e414",
   "metadata": {},
   "source": [
    "#### Metrics of Optimal Model"
   ]
  },
  {
   "cell_type": "markdown",
   "id": "5410811c",
   "metadata": {},
   "source": [
    "After experiment analysis, none of the values used for var_smoothing had a significant impact in the model performance, so for the optimal model we'll use the default value, which is exp(-9)."
   ]
  },
  {
   "cell_type": "code",
   "execution_count": 17,
   "id": "aea9ee15",
   "metadata": {},
   "outputs": [
    {
     "name": "stderr",
     "output_type": "stream",
     "text": [
      "2024/11/17 21:48:44 WARNING mlflow.models.model: Model logged without a signature and input example. Please set `input_example` parameter when logging the model to auto infer the model signature.\n"
     ]
    }
   ],
   "source": [
    "with mlflow.start_run():\n",
    "    mlflow.set_tags({\"model\": \"GaussianNB\", \"class\": \"optimal\"})\n",
    "\n",
    "    pipe.fit(X_pipe_train, y_pipe_train)\n",
    "\n",
    "    predictions = pipe.predict(X_pipe_test)\n",
    "\n",
    "    metrics_data = {\n",
    "        \"accuracy\": (pipe.score(X_pipe_test, y_pipe_test)),\n",
    "        \"recall\": (recall_score(y_pipe_test.values, predictions, pos_label=4)),\n",
    "        \"precision\": (precision_score(y_pipe_test.values, predictions, pos_label=4)),\n",
    "        \"f1-score\": (f1_score(y_pipe_test.values, predictions, pos_label=4)),\n",
    "    }\n",
    "\n",
    "    mlflow.log_metrics(metrics_data)\n",
    "    mlflow.sklearn.log_model(pipe, \"model\")"
   ]
  },
  {
   "cell_type": "code",
   "execution_count": 18,
   "id": "7cab8483",
   "metadata": {
    "colab": {
     "base_uri": "https://localhost:8080/"
    },
    "id": "7cab8483",
    "outputId": "82cfde76-9494-4b5a-8b40-4fb0c631ab7f"
   },
   "outputs": [
    {
     "name": "stdout",
     "output_type": "stream",
     "text": [
      "{'accuracy': 0.9228895224123633, 'recall': np.float64(0.6572493417054892), 'precision': np.float64(0.9576969278401025), 'f1-score': np.float64(0.779525222908361), 'cm': array([[1872305,   14333],\n",
      "       [ 169216,  324484]])}\n"
     ]
    }
   ],
   "source": [
    "# add confusion matrix\n",
    "metrics_data[\"cm\"] = confusion_matrix(y_pipe_test, predictions)\n",
    "\n",
    "print(metrics_data)"
   ]
  },
  {
   "cell_type": "code",
   "execution_count": 19,
   "id": "5814ffb9",
   "metadata": {},
   "outputs": [],
   "source": [
    "with open(\"results/metrics.txt\", \"w\") as outfile:\n",
    "    outfile.write(\n",
    "        f\"\\nAccuracy = {round(metrics_data['accuracy'], 4)}, \"\n",
    "        + f\"Recall = {round(metrics_data['recall'], 4)}, \"\n",
    "        + f\"Precision = {round(metrics_data['precision'], 4)}, \"\n",
    "        + f\"F1 Score = {round(metrics_data['f1-score'], 4)}\"\n",
    "    )"
   ]
  },
  {
   "cell_type": "markdown",
   "id": "79afc9ac",
   "metadata": {},
   "source": [
    "#### Results Report"
   ]
  },
  {
   "cell_type": "code",
   "execution_count": 20,
   "id": "ZYFCWpE072EO",
   "metadata": {
    "colab": {
     "base_uri": "https://localhost:8080/",
     "height": 430
    },
    "id": "ZYFCWpE072EO",
    "outputId": "13977840-ada2-466f-8aaa-b51a6a779fc7"
   },
   "outputs": [
    {
     "data": {
      "image/png": "[encoded data removed]",
      "text/plain": [
       "<Figure size 1000x300 with 3 Axes>"
      ]
     },
     "metadata": {},
     "output_type": "display_data"
    }
   ],
   "source": [
    "sns.set_theme()\n",
    "fig, axs = plt.subplots(1, 2, figsize=(10, 3))\n",
    "\n",
    "sns.heatmap(\n",
    "    metrics_data[\"cm\"] / np.sum(metrics_data[\"cm\"]),\n",
    "    annot=True,\n",
    "    fmt=\".2%\",\n",
    "    cmap=\"Blues\",\n",
    "    ax=axs[0],\n",
    ")\n",
    "axs[0].set_xlabel(\"Predicted Labels\")\n",
    "axs[0].set_ylabel(\"True Labels\")\n",
    "axs[0].xaxis.set_ticklabels([\"normal\", \"anomaly\"])\n",
    "axs[0].yaxis.set_ticklabels([\"normal\", \"anomaly\"])\n",
    "axs[0].set_title(\"Confusion Matrix\")\n",
    "\n",
    "fpr, tpr, thresholds = roc_curve(y_pipe_test, predictions, pos_label=4)\n",
    "auc_score = auc(fpr, tpr)\n",
    "\n",
    "axs[1].plot(fpr, tpr, label=f\"(AUC = {auc_score:.2f})\", color=\"red\")\n",
    "axs[1].plot([0, 1], [0, 1], color=\"black\", linestyle=\"--\")\n",
    "axs[1].set_xlim([0.0, 1.0])\n",
    "axs[1].set_ylim([0.0, 1.05])\n",
    "axs[1].set_xlabel(\"False Positive Rate\")\n",
    "axs[1].set_ylabel(\"True Positive Rate\")\n",
    "axs[1].set_title(f\"ROC Curve\")\n",
    "axs[1].legend(loc=\"lower right\")\n",
    "\n",
    "plt.plot()\n",
    "plt.savefig(\"results/model_results.png\", dpi=120)"
   ]
  },
  {
   "cell_type": "markdown",
   "id": "dd7caffd",
   "metadata": {},
   "source": [
    "#### Saving Model"
   ]
  },
  {
   "cell_type": "code",
   "execution_count": 21,
   "id": "acc0aa94",
   "metadata": {},
   "outputs": [],
   "source": [
    "from cloudpickle import dump"
   ]
  },
  {
   "cell_type": "code",
   "execution_count": 22,
   "id": "a948e263",
   "metadata": {},
   "outputs": [],
   "source": [
    "model_file = \"model/anomaly_detector_pipeline.pkl\"\n",
    "\n",
    "with open(model_file, \"wb\") as pkl_file:\n",
    "    dump(pipe, pkl_file)"
   ]
  },
  {
   "cell_type": "markdown",
   "id": "789566ab",
   "metadata": {},
   "source": [
    "### Model Management with MLFlow"
   ]
  },
  {
   "cell_type": "code",
   "execution_count": 23,
   "id": "46d31d96",
   "metadata": {},
   "outputs": [],
   "source": [
    "from mlflow.tracking import MlflowClient\n",
    "\n",
    "client = MlflowClient()"
   ]
  },
  {
   "cell_type": "code",
   "execution_count": 24,
   "id": "d4d953e5",
   "metadata": {},
   "outputs": [
    {
     "data": {
      "text/plain": [
       "[<Experiment: artifact_location='file:///d:/Users/Lucas/Documents/workspace/defante/api-mack-tac-mlops/mlruns/219002891498167879', creation_time=1728341596398, experiment_id='219002891498167879', last_update_time=1728341596398, lifecycle_stage='active', name='mack-tac-experiment', tags={}>]"
      ]
     },
     "execution_count": 24,
     "metadata": {},
     "output_type": "execute_result"
    }
   ],
   "source": [
    "client.search_experiments(filter_string=\"name = 'mack-tac-experiment'\")"
   ]
  },
  {
   "cell_type": "code",
   "execution_count": null,
   "id": "f86a51cf",
   "metadata": {},
   "outputs": [],
   "source": [
    "from mlflow.entities import ViewType\n",
    "\n",
    "runs = client.search_runs(\n",
    "    experiment_ids=\"219002891498167879\",\n",
    "    filter_string=\"tags.class = 'optimal'\",\n",
    "    run_view_type=ViewType.ACTIVE_ONLY,\n",
    "    max_results=5,\n",
    "    order_by=[\"created DESC\"],\n",
    ")"
   ]
  },
  {
   "cell_type": "code",
   "execution_count": 26,
   "id": "5190f2cd",
   "metadata": {},
   "outputs": [
    {
     "name": "stdout",
     "output_type": "stream",
     "text": [
      "run id: 0bace3e396614de59b973e540c263959, precision: 0.9577\n",
      "run id: 9e4fc52a9fd54ed5a1cccd2b7a979862, precision: 0.9577\n",
      "run id: 81cdc292d93e4a3e9511d6a86cba519c, precision: 0.9577\n",
      "run id: 1cd0e1523a984691a74a9720e0a75a07, precision: 0.9577\n",
      "run id: 707389e2a35e499885ebf894a0b1fc07, precision: 0.9577\n"
     ]
    }
   ],
   "source": [
    "for run in runs:\n",
    "    print(f\"run id: {run.info.run_id}, precision: {run.data.metrics['precision']:.4f}\")"
   ]
  },
  {
   "cell_type": "markdown",
   "id": "81ed2fa5",
   "metadata": {},
   "source": [
    "#### Model Registering"
   ]
  },
  {
   "cell_type": "code",
   "execution_count": null,
   "id": "ddae26a3",
   "metadata": {},
   "outputs": [
    {
     "name": "stderr",
     "output_type": "stream",
     "text": [
      "Registered model 'mack-tac-classificator' already exists. Creating a new version of this model...\n",
      "Created version '2' of model 'mack-tac-classificator'.\n"
     ]
    },
    {
     "data": {
      "text/plain": [
       "<ModelVersion: aliases=[], creation_timestamp=1731892032830, current_stage='None', description=None, last_updated_timestamp=1731892032830, name='mack-tac-classificator', run_id='9e4fc52a9fd54ed5a1cccd2b7a979862', run_link=None, source='file:///d:/Users/Lucas/Documents/workspace/defante/api-mack-tac-mlops/mlruns/219002891498167879/9e4fc52a9fd54ed5a1cccd2b7a979862/artifacts/model', status='READY', status_message=None, tags={}, user_id=None, version=2>"
      ]
     },
     "execution_count": 52,
     "metadata": {},
     "output_type": "execute_result"
    }
   ],
   "source": [
    "run_id = \"9e4fc52a9fd54ed5a1cccd2b7a979862\"\n",
    "model_uri = f\"runs:/{run_id}/model\"\n",
    "model_name = \"mack-tac-classificator\"\n",
    "mlflow.register_model(model_uri=model_uri, name=model_name)"
   ]
  },
  {
   "cell_type": "code",
   "execution_count": 50,
   "id": "7ea9d2ad",
   "metadata": {},
   "outputs": [],
   "source": [
    "import warnings\n",
    "\n",
    "warnings.filterwarnings(action=\"ignore\", category=FutureWarning)"
   ]
  },
  {
   "cell_type": "code",
   "execution_count": null,
   "id": "cf1f17a4",
   "metadata": {},
   "outputs": [
    {
     "name": "stdout",
     "output_type": "stream",
     "text": [
      "version: 2; stage: Production\n",
      "version: 1; stage: Archived\n"
     ]
    }
   ],
   "source": [
    "list_latest_versions = client.get_latest_versions(name=model_name)\n",
    "\n",
    "for versions in list_latest_versions:\n",
    "    print(f\"version: {versions.version}; stage: {versions.current_stage}\")"
   ]
  },
  {
   "cell_type": "code",
   "execution_count": null,
   "id": "11a8a8fb",
   "metadata": {},
   "outputs": [],
   "source": [
    "model_version = 2\n",
    "new_stage = \"production\""
   ]
  },
  {
   "cell_type": "markdown",
   "id": "7d85135e",
   "metadata": {},
   "source": [
    "#### Model Staging"
   ]
  },
  {
   "cell_type": "code",
   "execution_count": null,
   "id": "dae68e67",
   "metadata": {},
   "outputs": [
    {
     "data": {
      "text/plain": [
       "<ModelVersion: aliases=[], creation_timestamp=1731892032830, current_stage='Production', description=None, last_updated_timestamp=1731892264053, name='mack-tac-classificator', run_id='9e4fc52a9fd54ed5a1cccd2b7a979862', run_link=None, source='file:///d:/Users/Lucas/Documents/workspace/defante/api-mack-tac-mlops/mlruns/219002891498167879/9e4fc52a9fd54ed5a1cccd2b7a979862/artifacts/model', status='READY', status_message=None, tags={}, user_id=None, version=2>"
      ]
     },
     "execution_count": 62,
     "metadata": {},
     "output_type": "execute_result"
    }
   ],
   "source": [
    "client.transition_model_version_stage(\n",
    "    name=model_name,\n",
    "    version=model_version,\n",
    "    stage=new_stage,\n",
    "    archive_existing_versions=True,\n",
    ")"
   ]
  },
  {
   "cell_type": "code",
   "execution_count": null,
   "id": "13a3c0a5",
   "metadata": {},
   "outputs": [
    {
     "data": {
      "text/plain": [
       "<ModelVersion: aliases=[], creation_timestamp=1731892032830, current_stage='Production', description=('The model version 2 was transitioned to production on 2024-11-17 '\n",
       " '22:18:33.934433.'), last_updated_timestamp=1731892713934, name='mack-tac-classificator', run_id='9e4fc52a9fd54ed5a1cccd2b7a979862', run_link=None, source='file:///d:/Users/Lucas/Documents/workspace/defante/api-mack-tac-mlops/mlruns/219002891498167879/9e4fc52a9fd54ed5a1cccd2b7a979862/artifacts/model', status='READY', status_message=None, tags={}, user_id=None, version=2>"
      ]
     },
     "execution_count": 70,
     "metadata": {},
     "output_type": "execute_result"
    }
   ],
   "source": [
    "from datetime import datetime\n",
    "\n",
    "date = datetime.today()\n",
    "client.update_model_version(\n",
    "    name=model_name,\n",
    "    version=model_version,\n",
    "    description=f\"The model version {model_version} was transitioned to {new_stage} on {date}.\",\n",
    ")"
   ]
  },
  {
   "cell_type": "markdown",
   "id": "22d6cb88",
   "metadata": {},
   "source": [
    "#### Testing Model from Staged Source"
   ]
  },
  {
   "cell_type": "code",
   "execution_count": 72,
   "id": "7eb3367d",
   "metadata": {},
   "outputs": [
    {
     "name": "stdout",
     "output_type": "stream",
     "text": [
      "{'accuracy': 0.9228895224123633, 'recall': np.float64(0.6572493417054892), 'precision': np.float64(0.9576969278401025), 'f1-score': np.float64(0.779525222908361)}\n"
     ]
    }
   ],
   "source": [
    "def test_model(name, stage, XTest, YTest):\n",
    "    model = mlflow.pyfunc.load_model(f\"models:/{name}/{stage}\")\n",
    "    ypred = model.predict(XTest)\n",
    "    metrics_data = {\n",
    "        \"accuracy\": (pipe.score(XTest, YTest)),\n",
    "        \"recall\": (recall_score(YTest.values, ypred, pos_label=4)),\n",
    "        \"precision\": (precision_score(YTest.values, ypred, pos_label=4)),\n",
    "        \"f1-score\": (f1_score(YTest.values, ypred, pos_label=4)),\n",
    "    }\n",
    "    print(metrics_data)\n",
    "\n",
    "\n",
    "test_model(model_name, \"production\", X_pipe_test, y_pipe_test)"
   ]
  }
 ],
 "metadata": {
  "colab": {
   "provenance": []
  },
  "kernelspec": {
   "display_name": "venv",
   "language": "python",
   "name": "python3"
  },
  "language_info": {
   "codemirror_mode": {
    "name": "ipython",
    "version": 3
   },
   "file_extension": ".py",
   "mimetype": "text/x-python",
   "name": "python",
   "nbconvert_exporter": "python",
   "pygments_lexer": "ipython3",
   "version": "3.12.4"
  }
 },
 "nbformat": 4,
 "nbformat_minor": 5
}
